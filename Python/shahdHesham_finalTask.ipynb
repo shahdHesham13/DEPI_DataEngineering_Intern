{
 "cells": [
  {
   "cell_type": "markdown",
   "metadata": {},
   "source": [
    "# Python Programming Fundamentals Final Task"
   ]
  },
  {
   "cell_type": "markdown",
   "metadata": {},
   "source": [
    "Question1: Write a function that takes the user's name and age as input. If the age is 18 or above, print \"Hello [name], you are eligible to vote.\" Otherwise, print \"Hello [name], you are not eligible to vote.\""
   ]
  },
  {
   "cell_type": "code",
   "execution_count": 1,
   "metadata": {},
   "outputs": [
    {
     "name": "stdout",
     "output_type": "stream",
     "text": [
      "Hello shahd, you are eligible to vote.\n"
     ]
    }
   ],
   "source": [
    "def vote_eligibility():\n",
    "   name = input(\"Hi, what is your name ?\")\n",
    "   age = int(input(\"and your age ? :\"))\n",
    "\n",
    "   if age >= 18:\n",
    "        print(f\"Hello {name}, you are eligible to vote.\")\n",
    "   else:\n",
    "        print(f\"Hello {name}, you are not eligible to vote.\")\n",
    "\n",
    "vote_eligibility()"
   ]
  },
  {
   "cell_type": "markdown",
   "metadata": {},
   "source": [
    "Question2: Write a function that takes a sentence as input from the user, splits it into words, and stores them in a list. Then, print each word in uppercase on this list."
   ]
  },
  {
   "cell_type": "code",
   "execution_count": 4,
   "metadata": {},
   "outputs": [
    {
     "data": {
      "text/plain": [
       "['SHAHD', 'HESHAM']"
      ]
     },
     "execution_count": 4,
     "metadata": {},
     "output_type": "execute_result"
    }
   ],
   "source": [
    "def justUppercaseWords():\n",
    "    sentence = input(\"Enter a sentence: \")\n",
    "    words = sentence.split()\n",
    "    \n",
    "    wordsList = []\n",
    "    for word in words:\n",
    "        upperwords = word.upper()\n",
    "        wordsList.append(upperwords)\n",
    "    \n",
    "    return wordsList\n",
    "\n",
    "justUppercaseWords()"
   ]
  },
  {
   "cell_type": "markdown",
   "metadata": {},
   "source": [
    "Question3: Create a dictionary employee with keys \"name\", \"age\", and \"position\".\n",
    "\n",
    "Fill the dictionary with this data:\n",
    "employee = { \"name\": \"John Doe\", \"age\": 30, \"position\": \"Software Developer\" }\n",
    "Write a function display_employee that takes the dictionary as a parameter and prints the employee's details in a formatted string.\n",
    "Output example: employee Name [name], Age: [age], position: [position]."
   ]
  },
  {
   "cell_type": "code",
   "execution_count": 6,
   "metadata": {},
   "outputs": [
    {
     "name": "stdout",
     "output_type": "stream",
     "text": [
      "Name: John Doe, Age: 30, Position: Software Developer\n"
     ]
    }
   ],
   "source": [
    "employee = {\n",
    "    \"name\": \"John Doe\",\n",
    "    \"age\": 30,\n",
    "    \"position\": \"Software Developer\"\n",
    "}\n",
    "\n",
    "def display_employee(employee):\n",
    "    print(f\"Name: {employee['name']}, Age: {employee['age']}, Position: {employee['position']}\")\n",
    "\n",
    "display_employee(employee)\n"
   ]
  },
  {
   "cell_type": "markdown",
   "metadata": {},
   "source": [
    "Question4: Write a function that takes a list of numbers as input from the user (separated by spaces).\n",
    "Convert this list to a data structure that removes the duplicates, then print each unique number."
   ]
  },
  {
   "cell_type": "code",
   "execution_count": 8,
   "metadata": {},
   "outputs": [
    {
     "data": {
      "text/plain": [
       "{'0', '1', '11', '3', '9'}"
      ]
     },
     "execution_count": 8,
     "metadata": {},
     "output_type": "execute_result"
    }
   ],
   "source": [
    "def uniqueNumbers():\n",
    "    numbers = input(\"Enter list of Numbers (separated by spaces): \")\n",
    "    numbersList = numbers.split() \n",
    "    uniqueNumbers = set(numbersList)\n",
    "    return uniqueNumbers\n",
    "    \n",
    "uniqueNumbers()\n"
   ]
  },
  {
   "cell_type": "markdown",
   "metadata": {},
   "source": [
    "Question5: Create a list students where each element is a dictionary containing \"name\" and \"grade\".\n",
    "\n",
    "Fill the dictionary with this data:\n",
    "students = [ {\"name\": \"Alice\", \"grade\": 80}, {\"name\": \"Bob\", \"grade\": 65}, {\"name\": \"Charlie\", \"grade\": 90}, {\"name\": \"David\", \"grade\": 70} ]\n",
    "\n",
    " Write a function that takes a list of dictionaries as input, then print the names of students who have a grade above 75."
   ]
  },
  {
   "cell_type": "code",
   "execution_count": 9,
   "metadata": {},
   "outputs": [
    {
     "name": "stdout",
     "output_type": "stream",
     "text": [
      "{'name': 'Alice', 'grade': 80}\n",
      "{'name': 'Charlie', 'grade': 90}\n"
     ]
    }
   ],
   "source": [
    "students = [{\"name\": \"Alice\", \"grade\": 80},\n",
    "              {\"name\": \"Bob\", \"grade\": 65},\n",
    "              {\"name\": \"Charlie\", \"grade\": 90},\n",
    "              {\"name\": \"David\", \"grade\": 70}]\n",
    "\n",
    "def highGrades(students):\n",
    "  for dictionary in students:\n",
    "    if dictionary['grade'] > 75:\n",
    "      print(dictionary)\n",
    "\n",
    "highGrades(students)\n",
    "     "
   ]
  },
  {
   "cell_type": "markdown",
   "metadata": {},
   "source": [
    "\n",
    "Question6: Write a function common_elements that takes two tuples as parameters and returns a set containing the common elements between the two tuples."
   ]
  },
  {
   "cell_type": "code",
   "execution_count": 16,
   "metadata": {},
   "outputs": [
    {
     "data": {
      "text/plain": [
       "{1, 3}"
      ]
     },
     "execution_count": 16,
     "metadata": {},
     "output_type": "execute_result"
    }
   ],
   "source": [
    "tup = [1, 2, 3, 4]\n",
    "tup1 = [1, 3, 5, 7]\n",
    "\n",
    "def common_elements(tup , tup1):\n",
    "    commonEl = []\n",
    "    for e in tup:\n",
    "        if e in tup1:\n",
    "            commonEl.append(e)\n",
    "    return set(commonEl)\n",
    "\n",
    "common_elements(tup, tup1)"
   ]
  },
  {
   "cell_type": "markdown",
   "metadata": {},
   "source": [
    "Question7: Write a program that continuously takes numbers as input from the user until they enter 0. If the number is positive, add it to a list. If it's negative, add it to a set. Print the list and the set after the program ends."
   ]
  },
  {
   "cell_type": "code",
   "execution_count": 17,
   "metadata": {},
   "outputs": [
    {
     "name": "stdout",
     "output_type": "stream",
     "text": [
      "Positive numbers (list): [1, 2, 3, 3, 3, 3, 38]\n",
      "Negative numbers (set): {-7, -6, -3}\n"
     ]
    }
   ],
   "source": [
    "def collect_numbers():\n",
    "    positive_list = []\n",
    "    negative_set = set()\n",
    "\n",
    "    while True:\n",
    "        number = int(input(\"Enter a number (0 to end program): \"))\n",
    "        \n",
    "        if number == 0:\n",
    "            break\n",
    "        \n",
    "        if number > 0:\n",
    "            positive_list.append(number)\n",
    "        elif number < 0:\n",
    "            negative_set.add(number)\n",
    "\n",
    "    print(\"Positive numbers list:\", positive_list)\n",
    "    print(\"Negative numbers set:\", negative_set)\n",
    "\n",
    "collect_numbers()\n"
   ]
  },
  {
   "cell_type": "markdown",
   "metadata": {},
   "source": [
    "Question8: Create a dictionary inventory where keys are item names and values are their quantities.\n",
    "\n",
    "Fill the dictionary with this data:\n",
    "inventory = { \"apple\": 10, \"banana\": 5, \"cherry\": 0, \"date\": 7 }\n",
    "\n",
    "Write a program that takes an item name as input and prints whether the item is available or not, handle case insensitivity."
   ]
  },
  {
   "cell_type": "code",
   "execution_count": 19,
   "metadata": {},
   "outputs": [
    {
     "name": "stdout",
     "output_type": "stream",
     "text": [
      "Apple is available.\n"
     ]
    }
   ],
   "source": [
    "inventory = {\n",
    "    \"apple\": 10,\n",
    "    \"banana\": 5,\n",
    "    \"cherry\": 0,\n",
    "    \"date\": 7\n",
    "}\n",
    "\n",
    "def isItemAvailable():\n",
    "    \n",
    "    item = input(\"Enter the item name: \").lower()\n",
    "    \n",
    "    if item in [i.lower() for i in inventory]:\n",
    "        print(f\"{item.capitalize()} is available.\")\n",
    "    else:\n",
    "        print(f\"{item.capitalize()} is not available.\")\n",
    "\n",
    "isItemAvailable()\n"
   ]
  },
  {
   "cell_type": "markdown",
   "metadata": {},
   "source": [
    "Question9 : Write a function analyze_scores that takes a list of scores as input. Calculate and return the highest score, lowest score, and average score. \n",
    "Additionally, print a grade (A, B, C, D, F) based on the average score.\n",
    "Info: \n",
    "- Grade >= 90 = A\n",
    "- Grade >= 80 = B\n",
    "- Grade >= 70 C\n",
    "- Grade >= 60 D\n",
    "- Grade < 60 = F"
   ]
  },
  {
   "cell_type": "code",
   "execution_count": 27,
   "metadata": {},
   "outputs": [
    {
     "name": "stdout",
     "output_type": "stream",
     "text": [
      "The Highest Score: 96\n",
      "The Lowest Score: 73\n",
      "The Average Score: 86.20\n",
      "Grade: B\n"
     ]
    }
   ],
   "source": [
    "def analyze_scores(scores):\n",
    "    highest_score = max(scores)\n",
    "    lowest_score = min(scores)\n",
    "    average_score = sum(scores) / len(scores)\n",
    "    \n",
    "    if average_score >= 90:\n",
    "        grade = 'A'\n",
    "    elif average_score >= 80:\n",
    "        grade = 'B'\n",
    "    elif average_score >= 70:\n",
    "        grade = 'C'\n",
    "    elif average_score >= 60:\n",
    "        grade = 'D'\n",
    "    else:\n",
    "        grade = 'F'\n",
    "\n",
    "    print(f\"The Highest Score: {highest_score}\")\n",
    "    print(f\"The Lowest Score: {lowest_score}\")\n",
    "    print(f\"The Average Score: {average_score:.2f}\")\n",
    "    print(f\"Grade: {grade}\")\n",
    "\n",
    "    #return highest_score, lowest_score, average_score\n",
    "\n",
    "scores_list = [73, 93, 79, 90, 96]\n",
    "analyze_scores(scores_list)"
   ]
  },
  {
   "cell_type": "markdown",
   "metadata": {},
   "source": [
    "Question10: Create a function named generated_primes that generates a list of prime numbers up to a given number n."
   ]
  },
  {
   "cell_type": "code",
   "execution_count": 31,
   "metadata": {},
   "outputs": [
    {
     "name": "stdout",
     "output_type": "stream",
     "text": [
      "[2, 3, 5, 7, 11, 13, 17, 19, 23, 29, 31]\n"
     ]
    }
   ],
   "source": [
    "def generate_primes(n):\n",
    "    primes = []\n",
    "    \n",
    "    for num in range(2, n+1):\n",
    "        is_prime = True\n",
    "        for i in range(2, int(num**0.5) + 1):\n",
    "            if num % i == 0:\n",
    "                is_prime = False\n",
    "                break\n",
    "        if is_prime:\n",
    "            primes.append(num)\n",
    "    \n",
    "    return primes\n",
    "\n",
    "\n",
    "prime_numbers = generate_primes(33)\n",
    "print(prime_numbers)\n"
   ]
  },
  {
   "cell_type": "markdown",
   "metadata": {},
   "source": [
    "Question11: Create a function named is_palindrome that checks whether a given string is a palindrome (reads the same from backward as forward)."
   ]
  },
  {
   "cell_type": "code",
   "execution_count": 4,
   "metadata": {},
   "outputs": [
    {
     "name": "stdout",
     "output_type": "stream",
     "text": [
      "'jimin' is not a palindrome.\n",
      "'tacocat' is a palindrome.\n"
     ]
    }
   ],
   "source": [
    "def isPalindrome(s):\n",
    "    word = s.replace(\" \", \"\").lower()\n",
    "    if word == word[::-1]:\n",
    "        print(f\"'{word}' is a palindrome.\")\n",
    "    else:\n",
    "        print(f\"'{word}' is not a palindrome.\")\n",
    "\n",
    "word = \"jimin\"\n",
    "isPalindrome(word)\n",
    "isPalindrome('taco cat')"
   ]
  },
  {
   "cell_type": "markdown",
   "metadata": {},
   "source": [
    "Question12: Implementing a Simple ATM System: \n",
    "Create a simple ATM program that allows a user to:\n",
    "•\tCheck their balance.\n",
    "•\tDeposit money.\n",
    "•\tWithdraw money.\n",
    "•\tExit the program.\n",
    "The program should keep running until the user chooses to exit.\n",
    "The initial balance is 1000$.\n",
    "The program displays a menu with options (choose 1 to check balance, choose 2 to deposit money, choose 3 to withdraw money, and choose 4 to exit) and asks the user to select one. \n",
    "If the user chooses to deposit or withdraw money, take an input of the amount to withdraw or deposit then add or subtract it from the current balance. "
   ]
  },
  {
   "cell_type": "code",
   "execution_count": null,
   "metadata": {},
   "outputs": [],
   "source": []
  }
 ],
 "metadata": {
  "kernelspec": {
   "display_name": "Python 3",
   "language": "python",
   "name": "python3"
  },
  "language_info": {
   "codemirror_mode": {
    "name": "ipython",
    "version": 3
   },
   "file_extension": ".py",
   "mimetype": "text/x-python",
   "name": "python",
   "nbconvert_exporter": "python",
   "pygments_lexer": "ipython3",
   "version": "3.8.10"
  }
 },
 "nbformat": 4,
 "nbformat_minor": 2
}
